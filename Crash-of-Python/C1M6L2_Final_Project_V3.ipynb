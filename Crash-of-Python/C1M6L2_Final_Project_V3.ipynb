{
 "cells": [
  {
   "cell_type": "markdown",
   "metadata": {},
   "source": [
    "# Final Project - Word Cloud"
   ]
  },
  {
   "cell_type": "markdown",
   "metadata": {},
   "source": [
    "For this project, you'll create a \"word cloud\" from a text by writing a script.  This script needs to process the text, remove punctuation, ignore case and words that do not contain all alphabets, count the frequencies, and ignore uninteresting or irrelevant words.  A dictionary is the output of the `calculate_frequencies` function.  The `wordcloud` module will then generate the image from your dictionary."
   ]
  },
  {
   "cell_type": "markdown",
   "metadata": {},
   "source": [
    "For the input text of your script, you will need to provide a file that contains text only.  For the text itself, you can copy and paste the contents of a website you like.  Or you can use a site like [Project Gutenberg](https://www.gutenberg.org/) to find books that are available online.  You could see what word clouds you can get from famous books, like a Shakespeare play or a novel by Jane Austen. Save this as a .txt file somewhere on your computer.\n",
    "<br><br>\n",
    "Now you will need to upload your input file here so that your script will be able to process it.  To do the upload, you will need an uploader widget.  Run the following cell to perform all the installs and imports for your word cloud script and uploader widget.  It may take a minute for all of this to run and there will be a lot of output messages. But, be patient. Once you get the following final line of output, the code is done executing. Then you can continue on with the rest of the instructions for this notebook.\n",
    "<br><br>\n",
    "**Enabling notebook extension fileupload/extension...**\n",
    "<br>\n",
    "**- Validating: <font color =green>OK</font>**"
   ]
  },
  {
   "cell_type": "code",
   "execution_count": 31,
   "metadata": {},
   "outputs": [
    {
     "name": "stdout",
     "output_type": "stream",
     "text": [
      "Requirement already satisfied: fileupload in c:\\users\\injur\\appdata\\local\\programs\\python\\python310\\lib\\site-packages (0.1.5)\n",
      "Requirement already satisfied: ipywidgets>=5.1 in c:\\users\\injur\\appdata\\local\\programs\\python\\python310\\lib\\site-packages (from fileupload) (7.6.5)\n",
      "Requirement already satisfied: traitlets>=4.2 in c:\\users\\injur\\appdata\\local\\programs\\python\\python310\\lib\\site-packages (from fileupload) (5.1.1)\n",
      "Requirement already satisfied: notebook>=4.2 in c:\\users\\injur\\appdata\\local\\programs\\python\\python310\\lib\\site-packages (from fileupload) (6.4.8)\n",
      "Requirement already satisfied: ipython-genutils~=0.2.0 in c:\\users\\injur\\appdata\\local\\programs\\python\\python310\\lib\\site-packages (from ipywidgets>=5.1->fileupload) (0.2.0)\n",
      "Requirement already satisfied: ipykernel>=4.5.1 in c:\\users\\injur\\appdata\\local\\programs\\python\\python310\\lib\\site-packages (from ipywidgets>=5.1->fileupload) (6.7.0)\n",
      "Requirement already satisfied: nbformat>=4.2.0 in c:\\users\\injur\\appdata\\local\\programs\\python\\python310\\lib\\site-packages (from ipywidgets>=5.1->fileupload) (5.1.3)\n",
      "Requirement already satisfied: jupyterlab-widgets>=1.0.0 in c:\\users\\injur\\appdata\\local\\programs\\python\\python310\\lib\\site-packages (from ipywidgets>=5.1->fileupload) (1.0.2)\n",
      "Requirement already satisfied: ipython>=4.0.0 in c:\\users\\injur\\appdata\\local\\programs\\python\\python310\\lib\\site-packages (from ipywidgets>=5.1->fileupload) (8.0.0)\n",
      "Requirement already satisfied: widgetsnbextension~=3.5.0 in c:\\users\\injur\\appdata\\local\\programs\\python\\python310\\lib\\site-packages (from ipywidgets>=5.1->fileupload) (3.5.2)\n",
      "Requirement already satisfied: jupyter-core>=4.6.1 in c:\\users\\injur\\appdata\\local\\programs\\python\\python310\\lib\\site-packages (from notebook>=4.2->fileupload) (4.9.1)\n",
      "Requirement already satisfied: prometheus-client in c:\\users\\injur\\appdata\\local\\programs\\python\\python310\\lib\\site-packages (from notebook>=4.2->fileupload) (0.13.1)\n",
      "Requirement already satisfied: argon2-cffi in c:\\users\\injur\\appdata\\local\\programs\\python\\python310\\lib\\site-packages (from notebook>=4.2->fileupload) (21.3.0)\n",
      "Requirement already satisfied: tornado>=6.1 in c:\\users\\injur\\appdata\\local\\programs\\python\\python310\\lib\\site-packages (from notebook>=4.2->fileupload) (6.1)\n",
      "Requirement already satisfied: jupyter-client>=5.3.4 in c:\\users\\injur\\appdata\\local\\programs\\python\\python310\\lib\\site-packages (from notebook>=4.2->fileupload) (7.1.0)\n",
      "Requirement already satisfied: nbconvert in c:\\users\\injur\\appdata\\local\\programs\\python\\python310\\lib\\site-packages (from notebook>=4.2->fileupload) (6.4.1)\n",
      "Requirement already satisfied: pyzmq>=17 in c:\\users\\injur\\appdata\\local\\programs\\python\\python310\\lib\\site-packages (from notebook>=4.2->fileupload) (22.3.0)\n",
      "Requirement already satisfied: jinja2 in c:\\users\\injur\\appdata\\local\\programs\\python\\python310\\lib\\site-packages (from notebook>=4.2->fileupload) (3.0.3)\n",
      "Requirement already satisfied: nest-asyncio>=1.5 in c:\\users\\injur\\appdata\\local\\programs\\python\\python310\\lib\\site-packages (from notebook>=4.2->fileupload) (1.5.4)\n",
      "Requirement already satisfied: Send2Trash>=1.8.0 in c:\\users\\injur\\appdata\\local\\programs\\python\\python310\\lib\\site-packages (from notebook>=4.2->fileupload) (1.8.0)\n",
      "Requirement already satisfied: terminado>=0.8.3 in c:\\users\\injur\\appdata\\local\\programs\\python\\python310\\lib\\site-packages (from notebook>=4.2->fileupload) (0.13.1)\n",
      "Requirement already satisfied: matplotlib-inline<0.2.0,>=0.1.0 in c:\\users\\injur\\appdata\\local\\programs\\python\\python310\\lib\\site-packages (from ipykernel>=4.5.1->ipywidgets>=5.1->fileupload) (0.1.3)\n",
      "Requirement already satisfied: debugpy<2.0,>=1.0.0 in c:\\users\\injur\\appdata\\local\\programs\\python\\python310\\lib\\site-packages (from ipykernel>=4.5.1->ipywidgets>=5.1->fileupload) (1.5.1)\n",
      "Requirement already satisfied: decorator in c:\\users\\injur\\appdata\\local\\programs\\python\\python310\\lib\\site-packages (from ipython>=4.0.0->ipywidgets>=5.1->fileupload) (5.1.1)\n",
      "Requirement already satisfied: prompt-toolkit!=3.0.0,!=3.0.1,<3.1.0,>=2.0.0 in c:\\users\\injur\\appdata\\local\\programs\\python\\python310\\lib\\site-packages (from ipython>=4.0.0->ipywidgets>=5.1->fileupload) (3.0.24)\n",
      "Requirement already satisfied: colorama in c:\\users\\injur\\appdata\\local\\programs\\python\\python310\\lib\\site-packages (from ipython>=4.0.0->ipywidgets>=5.1->fileupload) (0.4.4)\n",
      "Requirement already satisfied: setuptools>=18.5 in c:\\users\\injur\\appdata\\local\\programs\\python\\python310\\lib\\site-packages (from ipython>=4.0.0->ipywidgets>=5.1->fileupload) (58.1.0)\n",
      "Requirement already satisfied: jedi>=0.16 in c:\\users\\injur\\appdata\\local\\programs\\python\\python310\\lib\\site-packages (from ipython>=4.0.0->ipywidgets>=5.1->fileupload) (0.18.1)\n",
      "Requirement already satisfied: backcall in c:\\users\\injur\\appdata\\local\\programs\\python\\python310\\lib\\site-packages (from ipython>=4.0.0->ipywidgets>=5.1->fileupload) (0.2.0)\n",
      "Requirement already satisfied: pygments in c:\\users\\injur\\appdata\\local\\programs\\python\\python310\\lib\\site-packages (from ipython>=4.0.0->ipywidgets>=5.1->fileupload) (2.11.2)\n",
      "Requirement already satisfied: black in c:\\users\\injur\\appdata\\local\\programs\\python\\python310\\lib\\site-packages (from ipython>=4.0.0->ipywidgets>=5.1->fileupload) (21.12b0)\n",
      "Requirement already satisfied: stack-data in c:\\users\\injur\\appdata\\local\\programs\\python\\python310\\lib\\site-packages (from ipython>=4.0.0->ipywidgets>=5.1->fileupload) (0.1.3)\n",
      "Requirement already satisfied: pickleshare in c:\\users\\injur\\appdata\\local\\programs\\python\\python310\\lib\\site-packages (from ipython>=4.0.0->ipywidgets>=5.1->fileupload) (0.7.5)\n",
      "Requirement already satisfied: python-dateutil>=2.1 in c:\\users\\injur\\appdata\\local\\programs\\python\\python310\\lib\\site-packages (from jupyter-client>=5.3.4->notebook>=4.2->fileupload) (2.8.2)\n",
      "Requirement already satisfied: entrypoints in c:\\users\\injur\\appdata\\local\\programs\\python\\python310\\lib\\site-packages (from jupyter-client>=5.3.4->notebook>=4.2->fileupload) (0.3)\n",
      "Requirement already satisfied: pywin32>=1.0 in c:\\users\\injur\\appdata\\local\\programs\\python\\python310\\lib\\site-packages (from jupyter-core>=4.6.1->notebook>=4.2->fileupload) (303)\n",
      "Requirement already satisfied: jsonschema!=2.5.0,>=2.4 in c:\\users\\injur\\appdata\\local\\programs\\python\\python310\\lib\\site-packages (from nbformat>=4.2.0->ipywidgets>=5.1->fileupload) (4.4.0)\n",
      "Requirement already satisfied: pywinpty>=1.1.0 in c:\\users\\injur\\appdata\\local\\programs\\python\\python310\\lib\\site-packages (from terminado>=0.8.3->notebook>=4.2->fileupload) (2.0.1)\n",
      "Requirement already satisfied: argon2-cffi-bindings in c:\\users\\injur\\appdata\\local\\programs\\python\\python310\\lib\\site-packages (from argon2-cffi->notebook>=4.2->fileupload) (21.2.0)\n",
      "Requirement already satisfied: MarkupSafe>=2.0 in c:\\users\\injur\\appdata\\local\\programs\\python\\python310\\lib\\site-packages (from jinja2->notebook>=4.2->fileupload) (2.0.1)\n",
      "Requirement already satisfied: nbclient<0.6.0,>=0.5.0 in c:\\users\\injur\\appdata\\local\\programs\\python\\python310\\lib\\site-packages (from nbconvert->notebook>=4.2->fileupload) (0.5.10)\n",
      "Requirement already satisfied: jupyterlab-pygments in c:\\users\\injur\\appdata\\local\\programs\\python\\python310\\lib\\site-packages (from nbconvert->notebook>=4.2->fileupload) (0.1.2)\n",
      "Requirement already satisfied: defusedxml in c:\\users\\injur\\appdata\\local\\programs\\python\\python310\\lib\\site-packages (from nbconvert->notebook>=4.2->fileupload) (0.7.1)\n",
      "Requirement already satisfied: pandocfilters>=1.4.1 in c:\\users\\injur\\appdata\\local\\programs\\python\\python310\\lib\\site-packages (from nbconvert->notebook>=4.2->fileupload) (1.5.0)\n",
      "Requirement already satisfied: bleach in c:\\users\\injur\\appdata\\local\\programs\\python\\python310\\lib\\site-packages (from nbconvert->notebook>=4.2->fileupload) (4.1.0)\n",
      "Requirement already satisfied: testpath in c:\\users\\injur\\appdata\\local\\programs\\python\\python310\\lib\\site-packages (from nbconvert->notebook>=4.2->fileupload) (0.5.0)\n",
      "Requirement already satisfied: mistune<2,>=0.8.1 in c:\\users\\injur\\appdata\\local\\programs\\python\\python310\\lib\\site-packages (from nbconvert->notebook>=4.2->fileupload) (0.8.4)\n",
      "Requirement already satisfied: parso<0.9.0,>=0.8.0 in c:\\users\\injur\\appdata\\local\\programs\\python\\python310\\lib\\site-packages (from jedi>=0.16->ipython>=4.0.0->ipywidgets>=5.1->fileupload) (0.8.3)\n",
      "Requirement already satisfied: attrs>=17.4.0 in c:\\users\\injur\\appdata\\local\\programs\\python\\python310\\lib\\site-packages (from jsonschema!=2.5.0,>=2.4->nbformat>=4.2.0->ipywidgets>=5.1->fileupload) (21.4.0)\n",
      "Requirement already satisfied: pyrsistent!=0.17.0,!=0.17.1,!=0.17.2,>=0.14.0 in c:\\users\\injur\\appdata\\local\\programs\\python\\python310\\lib\\site-packages (from jsonschema!=2.5.0,>=2.4->nbformat>=4.2.0->ipywidgets>=5.1->fileupload) (0.18.1)\n",
      "Requirement already satisfied: wcwidth in c:\\users\\injur\\appdata\\local\\programs\\python\\python310\\lib\\site-packages (from prompt-toolkit!=3.0.0,!=3.0.1,<3.1.0,>=2.0.0->ipython>=4.0.0->ipywidgets>=5.1->fileupload) (0.2.5)\n",
      "Requirement already satisfied: six>=1.5 in c:\\users\\injur\\appdata\\local\\programs\\python\\python310\\lib\\site-packages (from python-dateutil>=2.1->jupyter-client>=5.3.4->notebook>=4.2->fileupload) (1.16.0)\n",
      "Requirement already satisfied: cffi>=1.0.1 in c:\\users\\injur\\appdata\\local\\programs\\python\\python310\\lib\\site-packages (from argon2-cffi-bindings->argon2-cffi->notebook>=4.2->fileupload) (1.15.0)\n",
      "Requirement already satisfied: pathspec<1,>=0.9.0 in c:\\users\\injur\\appdata\\local\\programs\\python\\python310\\lib\\site-packages (from black->ipython>=4.0.0->ipywidgets>=5.1->fileupload) (0.9.0)\n",
      "Requirement already satisfied: tomli<2.0.0,>=0.2.6 in c:\\users\\injur\\appdata\\local\\programs\\python\\python310\\lib\\site-packages (from black->ipython>=4.0.0->ipywidgets>=5.1->fileupload) (1.2.3)\n",
      "Requirement already satisfied: platformdirs>=2 in c:\\users\\injur\\appdata\\local\\programs\\python\\python310\\lib\\site-packages (from black->ipython>=4.0.0->ipywidgets>=5.1->fileupload) (2.4.1)\n",
      "Requirement already satisfied: mypy-extensions>=0.4.3 in c:\\users\\injur\\appdata\\local\\programs\\python\\python310\\lib\\site-packages (from black->ipython>=4.0.0->ipywidgets>=5.1->fileupload) (0.4.3)\n",
      "Requirement already satisfied: click>=7.1.2 in c:\\users\\injur\\appdata\\local\\programs\\python\\python310\\lib\\site-packages (from black->ipython>=4.0.0->ipywidgets>=5.1->fileupload) (8.0.3)\n",
      "Requirement already satisfied: typing-extensions!=3.10.0.1 in c:\\users\\injur\\appdata\\local\\programs\\python\\python310\\lib\\site-packages (from black->ipython>=4.0.0->ipywidgets>=5.1->fileupload) (4.0.1)\n",
      "Requirement already satisfied: packaging in c:\\users\\injur\\appdata\\local\\programs\\python\\python310\\lib\\site-packages (from bleach->nbconvert->notebook>=4.2->fileupload) (21.3)\n",
      "Requirement already satisfied: webencodings in c:\\users\\injur\\appdata\\local\\programs\\python\\python310\\lib\\site-packages (from bleach->nbconvert->notebook>=4.2->fileupload) (0.5.1)\n",
      "Requirement already satisfied: asttokens in c:\\users\\injur\\appdata\\local\\programs\\python\\python310\\lib\\site-packages (from stack-data->ipython>=4.0.0->ipywidgets>=5.1->fileupload) (2.0.5)\n",
      "Requirement already satisfied: pure-eval in c:\\users\\injur\\appdata\\local\\programs\\python\\python310\\lib\\site-packages (from stack-data->ipython>=4.0.0->ipywidgets>=5.1->fileupload) (0.2.1)\n",
      "Requirement already satisfied: executing in c:\\users\\injur\\appdata\\local\\programs\\python\\python310\\lib\\site-packages (from stack-data->ipython>=4.0.0->ipywidgets>=5.1->fileupload) (0.8.2)\n",
      "Requirement already satisfied: pycparser in c:\\users\\injur\\appdata\\local\\programs\\python\\python310\\lib\\site-packages (from cffi>=1.0.1->argon2-cffi-bindings->argon2-cffi->notebook>=4.2->fileupload) (2.21)\n",
      "Requirement already satisfied: pyparsing!=3.0.5,>=2.0.2 in c:\\users\\injur\\appdata\\local\\programs\\python\\python310\\lib\\site-packages (from packaging->bleach->nbconvert->notebook>=4.2->fileupload) (3.0.6)\n",
      "Requirement already satisfied: ipywidgets in c:\\users\\injur\\appdata\\local\\programs\\python\\python310\\lib\\site-packages (7.6.5)\n",
      "Requirement already satisfied: ipykernel>=4.5.1 in c:\\users\\injur\\appdata\\local\\programs\\python\\python310\\lib\\site-packages (from ipywidgets) (6.7.0)\n",
      "Requirement already satisfied: widgetsnbextension~=3.5.0 in c:\\users\\injur\\appdata\\local\\programs\\python\\python310\\lib\\site-packages (from ipywidgets) (3.5.2)\n",
      "Requirement already satisfied: ipython-genutils~=0.2.0 in c:\\users\\injur\\appdata\\local\\programs\\python\\python310\\lib\\site-packages (from ipywidgets) (0.2.0)\n",
      "Requirement already satisfied: traitlets>=4.3.1 in c:\\users\\injur\\appdata\\local\\programs\\python\\python310\\lib\\site-packages (from ipywidgets) (5.1.1)\n",
      "Requirement already satisfied: nbformat>=4.2.0 in c:\\users\\injur\\appdata\\local\\programs\\python\\python310\\lib\\site-packages (from ipywidgets) (5.1.3)\n",
      "Requirement already satisfied: jupyterlab-widgets>=1.0.0 in c:\\users\\injur\\appdata\\local\\programs\\python\\python310\\lib\\site-packages (from ipywidgets) (1.0.2)\n",
      "Requirement already satisfied: ipython>=4.0.0 in c:\\users\\injur\\appdata\\local\\programs\\python\\python310\\lib\\site-packages (from ipywidgets) (8.0.0)\n",
      "Requirement already satisfied: nest-asyncio in c:\\users\\injur\\appdata\\local\\programs\\python\\python310\\lib\\site-packages (from ipykernel>=4.5.1->ipywidgets) (1.5.4)\n",
      "Requirement already satisfied: matplotlib-inline<0.2.0,>=0.1.0 in c:\\users\\injur\\appdata\\local\\programs\\python\\python310\\lib\\site-packages (from ipykernel>=4.5.1->ipywidgets) (0.1.3)\n",
      "Requirement already satisfied: debugpy<2.0,>=1.0.0 in c:\\users\\injur\\appdata\\local\\programs\\python\\python310\\lib\\site-packages (from ipykernel>=4.5.1->ipywidgets) (1.5.1)\n",
      "Requirement already satisfied: tornado<7.0,>=4.2 in c:\\users\\injur\\appdata\\local\\programs\\python\\python310\\lib\\site-packages (from ipykernel>=4.5.1->ipywidgets) (6.1)\n",
      "Requirement already satisfied: jupyter-client<8.0 in c:\\users\\injur\\appdata\\local\\programs\\python\\python310\\lib\\site-packages (from ipykernel>=4.5.1->ipywidgets) (7.1.0)\n",
      "Requirement already satisfied: stack-data in c:\\users\\injur\\appdata\\local\\programs\\python\\python310\\lib\\site-packages (from ipython>=4.0.0->ipywidgets) (0.1.3)\n",
      "Requirement already satisfied: pickleshare in c:\\users\\injur\\appdata\\local\\programs\\python\\python310\\lib\\site-packages (from ipython>=4.0.0->ipywidgets) (0.7.5)\n",
      "Requirement already satisfied: black in c:\\users\\injur\\appdata\\local\\programs\\python\\python310\\lib\\site-packages (from ipython>=4.0.0->ipywidgets) (21.12b0)\n",
      "Requirement already satisfied: pygments in c:\\users\\injur\\appdata\\local\\programs\\python\\python310\\lib\\site-packages (from ipython>=4.0.0->ipywidgets) (2.11.2)\n",
      "Requirement already satisfied: backcall in c:\\users\\injur\\appdata\\local\\programs\\python\\python310\\lib\\site-packages (from ipython>=4.0.0->ipywidgets) (0.2.0)\n",
      "Requirement already satisfied: prompt-toolkit!=3.0.0,!=3.0.1,<3.1.0,>=2.0.0 in c:\\users\\injur\\appdata\\local\\programs\\python\\python310\\lib\\site-packages (from ipython>=4.0.0->ipywidgets) (3.0.24)\n",
      "Requirement already satisfied: setuptools>=18.5 in c:\\users\\injur\\appdata\\local\\programs\\python\\python310\\lib\\site-packages (from ipython>=4.0.0->ipywidgets) (58.1.0)\n",
      "Requirement already satisfied: decorator in c:\\users\\injur\\appdata\\local\\programs\\python\\python310\\lib\\site-packages (from ipython>=4.0.0->ipywidgets) (5.1.1)\n",
      "Requirement already satisfied: colorama in c:\\users\\injur\\appdata\\local\\programs\\python\\python310\\lib\\site-packages (from ipython>=4.0.0->ipywidgets) (0.4.4)\n",
      "Requirement already satisfied: jedi>=0.16 in c:\\users\\injur\\appdata\\local\\programs\\python\\python310\\lib\\site-packages (from ipython>=4.0.0->ipywidgets) (0.18.1)\n",
      "Requirement already satisfied: jupyter-core in c:\\users\\injur\\appdata\\local\\programs\\python\\python310\\lib\\site-packages (from nbformat>=4.2.0->ipywidgets) (4.9.1)\n",
      "Requirement already satisfied: jsonschema!=2.5.0,>=2.4 in c:\\users\\injur\\appdata\\local\\programs\\python\\python310\\lib\\site-packages (from nbformat>=4.2.0->ipywidgets) (4.4.0)\n",
      "Requirement already satisfied: notebook>=4.4.1 in c:\\users\\injur\\appdata\\local\\programs\\python\\python310\\lib\\site-packages (from widgetsnbextension~=3.5.0->ipywidgets) (6.4.8)\n",
      "Requirement already satisfied: parso<0.9.0,>=0.8.0 in c:\\users\\injur\\appdata\\local\\programs\\python\\python310\\lib\\site-packages (from jedi>=0.16->ipython>=4.0.0->ipywidgets) (0.8.3)\n",
      "Requirement already satisfied: pyrsistent!=0.17.0,!=0.17.1,!=0.17.2,>=0.14.0 in c:\\users\\injur\\appdata\\local\\programs\\python\\python310\\lib\\site-packages (from jsonschema!=2.5.0,>=2.4->nbformat>=4.2.0->ipywidgets) (0.18.1)\n",
      "Requirement already satisfied: attrs>=17.4.0 in c:\\users\\injur\\appdata\\local\\programs\\python\\python310\\lib\\site-packages (from jsonschema!=2.5.0,>=2.4->nbformat>=4.2.0->ipywidgets) (21.4.0)\n",
      "Requirement already satisfied: pyzmq>=13 in c:\\users\\injur\\appdata\\local\\programs\\python\\python310\\lib\\site-packages (from jupyter-client<8.0->ipykernel>=4.5.1->ipywidgets) (22.3.0)\n",
      "Requirement already satisfied: python-dateutil>=2.1 in c:\\users\\injur\\appdata\\local\\programs\\python\\python310\\lib\\site-packages (from jupyter-client<8.0->ipykernel>=4.5.1->ipywidgets) (2.8.2)\n",
      "Requirement already satisfied: entrypoints in c:\\users\\injur\\appdata\\local\\programs\\python\\python310\\lib\\site-packages (from jupyter-client<8.0->ipykernel>=4.5.1->ipywidgets) (0.3)\n",
      "Requirement already satisfied: pywin32>=1.0 in c:\\users\\injur\\appdata\\local\\programs\\python\\python310\\lib\\site-packages (from jupyter-core->nbformat>=4.2.0->ipywidgets) (303)\n",
      "Requirement already satisfied: nbconvert in c:\\users\\injur\\appdata\\local\\programs\\python\\python310\\lib\\site-packages (from notebook>=4.4.1->widgetsnbextension~=3.5.0->ipywidgets) (6.4.1)\n",
      "Requirement already satisfied: Send2Trash>=1.8.0 in c:\\users\\injur\\appdata\\local\\programs\\python\\python310\\lib\\site-packages (from notebook>=4.4.1->widgetsnbextension~=3.5.0->ipywidgets) (1.8.0)\n",
      "Requirement already satisfied: jinja2 in c:\\users\\injur\\appdata\\local\\programs\\python\\python310\\lib\\site-packages (from notebook>=4.4.1->widgetsnbextension~=3.5.0->ipywidgets) (3.0.3)\n",
      "Requirement already satisfied: terminado>=0.8.3 in c:\\users\\injur\\appdata\\local\\programs\\python\\python310\\lib\\site-packages (from notebook>=4.4.1->widgetsnbextension~=3.5.0->ipywidgets) (0.13.1)\n",
      "Requirement already satisfied: argon2-cffi in c:\\users\\injur\\appdata\\local\\programs\\python\\python310\\lib\\site-packages (from notebook>=4.4.1->widgetsnbextension~=3.5.0->ipywidgets) (21.3.0)\n",
      "Requirement already satisfied: prometheus-client in c:\\users\\injur\\appdata\\local\\programs\\python\\python310\\lib\\site-packages (from notebook>=4.4.1->widgetsnbextension~=3.5.0->ipywidgets) (0.13.1)\n",
      "Requirement already satisfied: wcwidth in c:\\users\\injur\\appdata\\local\\programs\\python\\python310\\lib\\site-packages (from prompt-toolkit!=3.0.0,!=3.0.1,<3.1.0,>=2.0.0->ipython>=4.0.0->ipywidgets) (0.2.5)\n",
      "Requirement already satisfied: platformdirs>=2 in c:\\users\\injur\\appdata\\local\\programs\\python\\python310\\lib\\site-packages (from black->ipython>=4.0.0->ipywidgets) (2.4.1)\n",
      "Requirement already satisfied: typing-extensions!=3.10.0.1 in c:\\users\\injur\\appdata\\local\\programs\\python\\python310\\lib\\site-packages (from black->ipython>=4.0.0->ipywidgets) (4.0.1)\n",
      "Requirement already satisfied: mypy-extensions>=0.4.3 in c:\\users\\injur\\appdata\\local\\programs\\python\\python310\\lib\\site-packages (from black->ipython>=4.0.0->ipywidgets) (0.4.3)\n",
      "Requirement already satisfied: tomli<2.0.0,>=0.2.6 in c:\\users\\injur\\appdata\\local\\programs\\python\\python310\\lib\\site-packages (from black->ipython>=4.0.0->ipywidgets) (1.2.3)\n",
      "Requirement already satisfied: pathspec<1,>=0.9.0 in c:\\users\\injur\\appdata\\local\\programs\\python\\python310\\lib\\site-packages (from black->ipython>=4.0.0->ipywidgets) (0.9.0)\n",
      "Requirement already satisfied: click>=7.1.2 in c:\\users\\injur\\appdata\\local\\programs\\python\\python310\\lib\\site-packages (from black->ipython>=4.0.0->ipywidgets) (8.0.3)\n",
      "Requirement already satisfied: executing in c:\\users\\injur\\appdata\\local\\programs\\python\\python310\\lib\\site-packages (from stack-data->ipython>=4.0.0->ipywidgets) (0.8.2)\n",
      "Requirement already satisfied: pure-eval in c:\\users\\injur\\appdata\\local\\programs\\python\\python310\\lib\\site-packages (from stack-data->ipython>=4.0.0->ipywidgets) (0.2.1)\n",
      "Requirement already satisfied: asttokens in c:\\users\\injur\\appdata\\local\\programs\\python\\python310\\lib\\site-packages (from stack-data->ipython>=4.0.0->ipywidgets) (2.0.5)\n",
      "Requirement already satisfied: six>=1.5 in c:\\users\\injur\\appdata\\local\\programs\\python\\python310\\lib\\site-packages (from python-dateutil>=2.1->jupyter-client<8.0->ipykernel>=4.5.1->ipywidgets) (1.16.0)\n",
      "Requirement already satisfied: pywinpty>=1.1.0 in c:\\users\\injur\\appdata\\local\\programs\\python\\python310\\lib\\site-packages (from terminado>=0.8.3->notebook>=4.4.1->widgetsnbextension~=3.5.0->ipywidgets) (2.0.1)\n",
      "Requirement already satisfied: argon2-cffi-bindings in c:\\users\\injur\\appdata\\local\\programs\\python\\python310\\lib\\site-packages (from argon2-cffi->notebook>=4.4.1->widgetsnbextension~=3.5.0->ipywidgets) (21.2.0)\n",
      "Requirement already satisfied: MarkupSafe>=2.0 in c:\\users\\injur\\appdata\\local\\programs\\python\\python310\\lib\\site-packages (from jinja2->notebook>=4.4.1->widgetsnbextension~=3.5.0->ipywidgets) (2.0.1)\n",
      "Requirement already satisfied: bleach in c:\\users\\injur\\appdata\\local\\programs\\python\\python310\\lib\\site-packages (from nbconvert->notebook>=4.4.1->widgetsnbextension~=3.5.0->ipywidgets) (4.1.0)\n",
      "Requirement already satisfied: mistune<2,>=0.8.1 in c:\\users\\injur\\appdata\\local\\programs\\python\\python310\\lib\\site-packages (from nbconvert->notebook>=4.4.1->widgetsnbextension~=3.5.0->ipywidgets) (0.8.4)\n",
      "Requirement already satisfied: testpath in c:\\users\\injur\\appdata\\local\\programs\\python\\python310\\lib\\site-packages (from nbconvert->notebook>=4.4.1->widgetsnbextension~=3.5.0->ipywidgets) (0.5.0)\n",
      "Requirement already satisfied: nbclient<0.6.0,>=0.5.0 in c:\\users\\injur\\appdata\\local\\programs\\python\\python310\\lib\\site-packages (from nbconvert->notebook>=4.4.1->widgetsnbextension~=3.5.0->ipywidgets) (0.5.10)\n",
      "Requirement already satisfied: defusedxml in c:\\users\\injur\\appdata\\local\\programs\\python\\python310\\lib\\site-packages (from nbconvert->notebook>=4.4.1->widgetsnbextension~=3.5.0->ipywidgets) (0.7.1)\n",
      "Requirement already satisfied: pandocfilters>=1.4.1 in c:\\users\\injur\\appdata\\local\\programs\\python\\python310\\lib\\site-packages (from nbconvert->notebook>=4.4.1->widgetsnbextension~=3.5.0->ipywidgets) (1.5.0)\n",
      "Requirement already satisfied: jupyterlab-pygments in c:\\users\\injur\\appdata\\local\\programs\\python\\python310\\lib\\site-packages (from nbconvert->notebook>=4.4.1->widgetsnbextension~=3.5.0->ipywidgets) (0.1.2)\n",
      "Requirement already satisfied: cffi>=1.0.1 in c:\\users\\injur\\appdata\\local\\programs\\python\\python310\\lib\\site-packages (from argon2-cffi-bindings->argon2-cffi->notebook>=4.4.1->widgetsnbextension~=3.5.0->ipywidgets) (1.15.0)\n",
      "Requirement already satisfied: webencodings in c:\\users\\injur\\appdata\\local\\programs\\python\\python310\\lib\\site-packages (from bleach->nbconvert->notebook>=4.4.1->widgetsnbextension~=3.5.0->ipywidgets) (0.5.1)\n",
      "Requirement already satisfied: packaging in c:\\users\\injur\\appdata\\local\\programs\\python\\python310\\lib\\site-packages (from bleach->nbconvert->notebook>=4.4.1->widgetsnbextension~=3.5.0->ipywidgets) (21.3)\n",
      "Requirement already satisfied: pycparser in c:\\users\\injur\\appdata\\local\\programs\\python\\python310\\lib\\site-packages (from cffi>=1.0.1->argon2-cffi-bindings->argon2-cffi->notebook>=4.4.1->widgetsnbextension~=3.5.0->ipywidgets) (2.21)\n",
      "Requirement already satisfied: pyparsing!=3.0.5,>=2.0.2 in c:\\users\\injur\\appdata\\local\\programs\\python\\python310\\lib\\site-packages (from packaging->bleach->nbconvert->notebook>=4.4.1->widgetsnbextension~=3.5.0->ipywidgets) (3.0.6)\n"
     ]
    },
    {
     "name": "stderr",
     "output_type": "stream",
     "text": [
      "Installing C:\\Users\\injur\\AppData\\Local\\Programs\\Python\\Python310\\lib\\site-packages\\fileupload\\static -> fileupload\n",
      "Up to date: C:\\Users\\injur\\AppData\\Roaming\\jupyter\\nbextensions\\fileupload\\extension.js\n",
      "Up to date: C:\\Users\\injur\\AppData\\Roaming\\jupyter\\nbextensions\\fileupload\\widget.js\n",
      "Up to date: C:\\Users\\injur\\AppData\\Roaming\\jupyter\\nbextensions\\fileupload\\fileupload\\widget.js\n",
      "- Validating: ok\n",
      "\n",
      "    To initialize this nbextension in the browser every time the notebook (or other app) loads:\n",
      "    \n",
      "          jupyter nbextension enable fileupload --user --py\n",
      "    \n",
      "Enabling notebook extension fileupload/extension...\n",
      "      - Validating: ok\n"
     ]
    }
   ],
   "source": [
    "# Here are all the installs and imports you will need for your word cloud script and uploader widget\n",
    "!pip install fileupload\n",
    "!pip install ipywidgets\n",
    "\n",
    "!jupyter nbextension install --py --user fileupload\n",
    "!jupyter nbextension enable --py fileupload\n",
    "\n",
    "import wordcloud\n",
    "import numpy as np\n",
    "from matplotlib import pyplot as plt\n",
    "from IPython.display import display\n",
    "import fileupload\n",
    "import io\n",
    "import sys"
   ]
  },
  {
   "cell_type": "markdown",
   "metadata": {},
   "source": [
    "Whew! That was a lot. All of the installs and imports for your word cloud script and uploader widget have been completed. \n",
    "<br><br>\n",
    "**IMPORTANT!** If this was your first time running the above cell containing the installs and imports, you will need save this notebook now. Then under the File menu above,  select Close and Halt. When the notebook has completely shut down, reopen it. This is the only way the necessary changes will take affect.\n",
    "<br><br>\n",
    "To upload your text file, run the following cell that contains all the code for a custom uploader widget. Once you run this cell, a \"Browse\" button should appear below it. Click this button and navigate the window to locate your saved text file."
   ]
  },
  {
   "cell_type": "code",
   "execution_count": 6,
   "metadata": {},
   "outputs": [],
   "source": [
    "from ipywidgets import *"
   ]
  },
  {
   "cell_type": "code",
   "execution_count": 7,
   "metadata": {},
   "outputs": [],
   "source": [
    "import fileupload"
   ]
  },
  {
   "cell_type": "code",
   "execution_count": 21,
   "metadata": {},
   "outputs": [
    {
     "data": {
      "application/vnd.jupyter.widget-view+json": {
       "model_id": "218a9874c0ec4ee6b7d39ddae9750396",
       "version_major": 2,
       "version_minor": 0
      },
      "text/plain": [
       "FileUploadWidget(label='Browse', _dom_classes=('widget_item', 'btn-group'))"
      ]
     },
     "metadata": {},
     "output_type": "display_data"
    }
   ],
   "source": [
    "# This is the uploader widget\n",
    "def _upload():\n",
    "    _upload_widget = fileupload.FileUploadWidget()\n",
    "\n",
    "    def _cb(change):\n",
    "        global file_contents\n",
    "        decoded = io.StringIO(change['owner'].data.decode('utf-8'))\n",
    "        filename = change['owner'].filename\n",
    "        print('Uploaded `{}` ({:.2f} kB)'.format(\n",
    "            filename, len(decoded.read()) / 2 **10))\n",
    "        file_contents = decoded.getvalue()\n",
    "\n",
    "    _upload_widget.observe(_cb, names='data')\n",
    "    display(_upload_widget)\n",
    "\n",
    "_upload()"
   ]
  },
  {
   "cell_type": "markdown",
   "metadata": {},
   "source": [
    "The uploader widget saved the contents of your uploaded file into a string object named *file_contents* that your word cloud script can process. This was a lot of preliminary work, but you are now ready to begin your script. "
   ]
  },
  {
   "cell_type": "markdown",
   "metadata": {},
   "source": [
    "Write a function in the cell below that iterates through the words in *file_contents*, removes punctuation, and counts the frequency of each word.  Oh, and be sure to make it ignore word case, words that do not contain all alphabets and boring words like \"and\" or \"the\".  Then use it in the `generate_from_frequencies` function to generate your very own word cloud!\n",
    "<br><br>\n",
    "**Hint:** Try storing the results of your iteration in a dictionary before passing them into wordcloud via the `generate_from_frequencies` function."
   ]
  },
  {
   "cell_type": "code",
   "execution_count": 22,
   "metadata": {},
   "outputs": [],
   "source": [
    "def calculate_frequencies(file_contents):\n",
    "    # Here is a list of punctuations and uninteresting words you can use to process your text\n",
    "    punctuations = '''!()-[]{};:'\"\\,<>./?@#$%^&*_~'''\n",
    "    uninteresting_words = [\"the\", \"a\", \"to\", \"if\", \"is\", \"it\", \"of\", \"and\", \"or\", \"an\", \"as\", \"i\", \"me\", \"my\", \\\n",
    "    \"we\", \"our\", \"ours\", \"you\", \"your\", \"yours\", \"he\", \"she\", \"him\", \"his\", \"her\", \"hers\", \"its\", \"they\", \"them\", \\\n",
    "    \"their\", \"what\", \"which\", \"who\", \"whom\", \"this\", \"that\", \"am\", \"are\", \"was\", \"were\", \"be\", \"been\", \"being\", \\\n",
    "    \"have\", \"has\", \"had\", \"do\", \"does\", \"did\", \"but\", \"at\", \"by\", \"with\", \"from\", \"here\", \"when\", \"where\", \"how\", \\\n",
    "    \"all\", \"any\", \"both\", \"each\", \"few\", \"more\", \"some\", \"such\", \"no\", \"nor\", \"too\", \"very\", \"can\", \"will\", \"just\"]\n",
    "    \n",
    "    # LEARNER CODE START HERE\n",
    "    #first define the output dictionary\n",
    "    output={}\n",
    "    '''remove punctuation'''\n",
    "# Using regex---------------------------------------------------------------------------------------------------\n",
    "    import re\n",
    "# Using regex\n",
    "    file_contents = re.sub(r'[^\\w\\s]', '', file_contents)\n",
    "    '''cou'''\n",
    "#loop every word in this file-------------------------------------------------------------------------------------\n",
    "\n",
    "    for word in file_contents.split():\n",
    "        #neglect uninteresting words\n",
    "        if word not in uninteresting_words :\n",
    "            if word not in output.keys():\n",
    "                output[word] = 1\n",
    "            else :\n",
    "                output[word]+=1\n",
    "\n",
    "                \n",
    "    #wordcloud\n",
    "    cloud = wordcloud.WordCloud()\n",
    "    cloud.generate_from_frequencies(output)\n",
    "    return cloud.to_array()"
   ]
  },
  {
   "cell_type": "markdown",
   "metadata": {},
   "source": [
    "If you have done everything correctly, your word cloud image should appear after running the cell below.  Fingers crossed!"
   ]
  },
  {
   "cell_type": "code",
   "execution_count": 27,
   "metadata": {},
   "outputs": [],
   "source": [
    "\n",
    "file_contents = open (\"mywords.txt\").read()\n"
   ]
  },
  {
   "cell_type": "code",
   "execution_count": 32,
   "metadata": {},
   "outputs": [],
   "source": [
    "import wordcloud"
   ]
  },
  {
   "cell_type": "code",
   "execution_count": 33,
   "metadata": {},
   "outputs": [
    {
     "ename": "AttributeError",
     "evalue": "module 'wordcloud' has no attribute 'WordCloud'",
     "output_type": "error",
     "traceback": [
      "\u001b[1;31m---------------------------------------------------------------------------\u001b[0m",
      "\u001b[1;31mAttributeError\u001b[0m                            Traceback (most recent call last)",
      "\u001b[1;32mc:\\Users\\injur\\Documents\\GitHub\\Python-interacting-with-Operating-System\\Class_1\\C1M6L2_Final_Project_V3.ipynb Cell 15'\u001b[0m in \u001b[0;36m<module>\u001b[1;34m\u001b[0m\n\u001b[1;32m----> <a href='vscode-notebook-cell:/c%3A/Users/injur/Documents/GitHub/Python-interacting-with-Operating-System/Class_1/C1M6L2_Final_Project_V3.ipynb#ch0000018?line=0'>1</a>\u001b[0m cloud \u001b[39m=\u001b[39m wordcloud\u001b[39m.\u001b[39;49mWordCloud()\n\u001b[0;32m      <a href='vscode-notebook-cell:/c%3A/Users/injur/Documents/GitHub/Python-interacting-with-Operating-System/Class_1/C1M6L2_Final_Project_V3.ipynb#ch0000018?line=1'>2</a>\u001b[0m cloud\u001b[39m.\u001b[39mgenerate_from_frequencies({\u001b[39m\"\u001b[39m\u001b[39mtest\u001b[39m\u001b[39m\"\u001b[39m:\u001b[39m3\u001b[39m, \u001b[39m\"\u001b[39m\u001b[39mexample\u001b[39m\u001b[39m\"\u001b[39m:\u001b[39m5\u001b[39m})\n",
      "\u001b[1;31mAttributeError\u001b[0m: module 'wordcloud' has no attribute 'WordCloud'"
     ]
    }
   ],
   "source": [
    "cloud = wordcloud.WordCloud()\n",
    "cloud.generate_from_frequencies({\"test\":3, \"example\":5})"
   ]
  },
  {
   "cell_type": "code",
   "execution_count": 29,
   "metadata": {},
   "outputs": [
    {
     "ename": "AttributeError",
     "evalue": "module 'wordcloud' has no attribute 'WordCloud'",
     "output_type": "error",
     "traceback": [
      "\u001b[1;31m---------------------------------------------------------------------------\u001b[0m",
      "\u001b[1;31mAttributeError\u001b[0m                            Traceback (most recent call last)",
      "\u001b[1;32mc:\\Users\\injur\\Documents\\GitHub\\Python-interacting-with-Operating-System\\Class_1\\C1M6L2_Final_Project_V3.ipynb Cell 15'\u001b[0m in \u001b[0;36m<module>\u001b[1;34m\u001b[0m\n\u001b[1;32m----> <a href='vscode-notebook-cell:/c%3A/Users/injur/Documents/GitHub/Python-interacting-with-Operating-System/Class_1/C1M6L2_Final_Project_V3.ipynb#ch0000015?line=0'>1</a>\u001b[0m cloud \u001b[39m=\u001b[39m wordcloud\u001b[39m.\u001b[39;49mWordCloud()\n\u001b[0;32m      <a href='vscode-notebook-cell:/c%3A/Users/injur/Documents/GitHub/Python-interacting-with-Operating-System/Class_1/C1M6L2_Final_Project_V3.ipynb#ch0000015?line=1'>2</a>\u001b[0m frequencies\u001b[39m=\u001b[39mcalculate_frequencies(file_contents)\n\u001b[0;32m      <a href='vscode-notebook-cell:/c%3A/Users/injur/Documents/GitHub/Python-interacting-with-Operating-System/Class_1/C1M6L2_Final_Project_V3.ipynb#ch0000015?line=2'>3</a>\u001b[0m cloud\u001b[39m.\u001b[39mgenerate_from_frequencies(frequencies)\n",
      "\u001b[1;31mAttributeError\u001b[0m: module 'wordcloud' has no attribute 'WordCloud'"
     ]
    }
   ],
   "source": [
    "cloud = wordcloud.WordCloud()\n",
    "frequencies=calculate_frequencies(file_contents)\n",
    "cloud.generate_from_frequencies(frequencies)\n",
    "cloud.to_file(\"myfile.jpg\")"
   ]
  },
  {
   "cell_type": "code",
   "execution_count": 10,
   "metadata": {},
   "outputs": [
    {
     "ename": "NameError",
     "evalue": "name 'file_contents' is not defined",
     "output_type": "error",
     "traceback": [
      "\u001b[1;31m---------------------------------------------------------------------------\u001b[0m",
      "\u001b[1;31mNameError\u001b[0m                                 Traceback (most recent call last)",
      "\u001b[1;32mc:\\Users\\injur\\Documents\\GitHub\\Python-interacting-with-Operating-System\\Class_1\\C1M6L2_Final_Project_V3.ipynb Cell 13'\u001b[0m in \u001b[0;36m<module>\u001b[1;34m\u001b[0m\n\u001b[0;32m      <a href='vscode-notebook-cell:/c%3A/Users/injur/Documents/GitHub/Python-interacting-with-Operating-System/Class_1/C1M6L2_Final_Project_V3.ipynb#ch0000010?line=0'>1</a>\u001b[0m \u001b[39m# Display your wordcloud image\u001b[39;00m\n\u001b[1;32m----> <a href='vscode-notebook-cell:/c%3A/Users/injur/Documents/GitHub/Python-interacting-with-Operating-System/Class_1/C1M6L2_Final_Project_V3.ipynb#ch0000010?line=2'>3</a>\u001b[0m myimage \u001b[39m=\u001b[39m calculate_frequencies(file_contents)\n\u001b[0;32m      <a href='vscode-notebook-cell:/c%3A/Users/injur/Documents/GitHub/Python-interacting-with-Operating-System/Class_1/C1M6L2_Final_Project_V3.ipynb#ch0000010?line=3'>4</a>\u001b[0m plt\u001b[39m.\u001b[39mimshow(myimage, interpolation \u001b[39m=\u001b[39m \u001b[39m'\u001b[39m\u001b[39mnearest\u001b[39m\u001b[39m'\u001b[39m)\n\u001b[0;32m      <a href='vscode-notebook-cell:/c%3A/Users/injur/Documents/GitHub/Python-interacting-with-Operating-System/Class_1/C1M6L2_Final_Project_V3.ipynb#ch0000010?line=4'>5</a>\u001b[0m plt\u001b[39m.\u001b[39maxis(\u001b[39m'\u001b[39m\u001b[39moff\u001b[39m\u001b[39m'\u001b[39m)\n",
      "\u001b[1;31mNameError\u001b[0m: name 'file_contents' is not defined"
     ]
    }
   ],
   "source": [
    "# Display your wordcloud image\n",
    "\n",
    "myimage = calculate_frequencies(file_contents)\n",
    "plt.imshow(myimage, interpolation = 'nearest')\n",
    "plt.axis('off')\n",
    "plt.show()"
   ]
  },
  {
   "cell_type": "markdown",
   "metadata": {},
   "source": [
    "If your word cloud image did not appear, go back and rework your `calculate_frequencies` function until you get the desired output.  Definitely check that you passed your frequecy count dictionary into the `generate_from_frequencies` function of `wordcloud`. Once you have correctly displayed your word cloud image, you are all done with this project. Nice work!"
   ]
  }
 ],
 "metadata": {
  "coursera": {
   "course_slug": "python-crash-course",
   "graded_item_id": "Z5d28",
   "launcher_item_id": "eSjyd"
  },
  "kernelspec": {
   "display_name": "Python 3",
   "language": "python",
   "name": "python3"
  },
  "language_info": {
   "codemirror_mode": {
    "name": "ipython",
    "version": 3
   },
   "file_extension": ".py",
   "mimetype": "text/x-python",
   "name": "python",
   "nbconvert_exporter": "python",
   "pygments_lexer": "ipython3",
   "version": "3.10.1"
  },
  "widgets": {
   "application/vnd.jupyter.widget-state+json": {
    "state": {},
    "version_major": 2,
    "version_minor": 0
   }
  }
 },
 "nbformat": 4,
 "nbformat_minor": 2
}
